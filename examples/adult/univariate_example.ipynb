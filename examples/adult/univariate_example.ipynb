{
 "cells": [
  {
   "cell_type": "code",
   "execution_count": 105,
   "metadata": {},
   "outputs": [],
   "source": [
    "import gbdt\n",
    "import numpy\n",
    "import matplotlib.pyplot as plt"
   ]
  },
  {
   "cell_type": "code",
   "execution_count": 106,
   "metadata": {},
   "outputs": [],
   "source": [
    "x = numpy.arange(0.1, 10, 0.1)\n",
    "y = numpy.log(x)"
   ]
  },
  {
   "cell_type": "code",
   "execution_count": 107,
   "metadata": {},
   "outputs": [],
   "source": [
    "data = gbdt.DataLoader.from_dict(bucketized_float_cols={'x': list(x)}, raw_float_cols={'y': list(y)})"
   ]
  },
  {
   "cell_type": "code",
   "execution_count": 104,
   "metadata": {},
   "outputs": [],
   "source": [
    "config = {'loss_func': 'mse',\n",
    "          'num_trees': 1,\n",
    "          'num_leaves': 2,\n",
    "          'example_sampling_rate': 0.8,\n",
    "          'feature_sampling_rate': 0.8,\n",
    "          'shrinkage' : 0.1}"
   ]
  },
  {
   "cell_type": "code",
   "execution_count": 66,
   "metadata": {},
   "outputs": [],
   "source": [
    "forest = gbdt.train(data,\n",
    "                    y=list(data['y']),\n",
    "                    features=['x'],\n",
    "                    config= \n",
    "                    {'loss_func': 'mse',\n",
    "                     'num_trees': 20,\n",
    "                     'num_leaves': 2,\n",
    "                     'example_sampling_rate': 0.8,\n",
    "                     'feature_sampling_rate': 0.8,\n",
    "                     'shrinkage' : 0.1})"
   ]
  },
  {
   "cell_type": "code",
   "execution_count": 67,
   "metadata": {},
   "outputs": [
    {
     "data": {
      "text/plain": [
       "[<matplotlib.lines.Line2D at 0x107de9518>,\n",
       " <matplotlib.lines.Line2D at 0x107de96d8>]"
      ]
     },
     "execution_count": 67,
     "metadata": {},
     "output_type": "execute_result"
    }
   ],
   "source": [
    "plt.plot(x, y, x, forest.predict(data), 'g-')"
   ]
  },
  {
   "cell_type": "code",
   "execution_count": 68,
   "metadata": {},
   "outputs": [
    {
     "data": {
      "image/png": "[encoded data removed]",
      "text/plain": [
       "<matplotlib.figure.Figure at 0x107c83710>"
      ]
     },
     "metadata": {},
     "output_type": "display_data"
    }
   ],
   "source": [
    "plt.show()"
   ]
  },
  {
   "cell_type": "code",
   "execution_count": 97,
   "metadata": {},
   "outputs": [],
   "source": [
    "x1 = list(x) + [float('nan')]* 20\n",
    "y1 = list(y) + [1.3] * 20"
   ]
  },
  {
   "cell_type": "code",
   "execution_count": 101,
   "metadata": {},
   "outputs": [],
   "source": [
    "data1 = gbdt.DataLoader.from_dict(bucketized_float_cols={'x': list(x1)}, raw_float_cols={'y': list(y1)})\n",
    "forest1 = gbdt.train(data1,\n",
    "                    y=list(data1['y']),\n",
    "                    features=['x'],\n",
    "                    config= \n",
    "                    {'loss_func': 'mse',\n",
    "                     'num_trees': 100,\n",
    "                     'num_leaves': 2,\n",
    "                     'example_sampling_rate': 0.8,\n",
    "                     'feature_sampling_rate': 0.8,\n",
    "                     'shrinkage' : 0.1})"
   ]
  },
  {
   "cell_type": "code",
   "execution_count": 102,
   "metadata": {},
   "outputs": [
    {
     "data": {
      "image/png": "[encoded data removed]",
      "text/plain": [
       "<matplotlib.figure.Figure at 0x108503fd0>"
      ]
     },
     "metadata": {},
     "output_type": "display_data"
    }
   ],
   "source": [
    "plt.plot(x1, y1, x1, forest1.predict(data1), 'g-')\n",
    "plt.show()"
   ]
  },
  {
   "cell_type": "code",
   "execution_count": 103,
   "metadata": {},
   "outputs": [
    {
     "data": {
      "text/plain": [
       "[-2.1622843207223923,\n",
       " -1.5598169812947162,\n",
       " -1.1581779667249066,\n",
       " -0.8770570966953528,\n",
       " -0.6615576621625223,\n",
       " -0.5217339660521247,\n",
       " -0.3288728933330276,\n",
       " -0.1963320913273492,\n",
       " -0.16821528779837536,\n",
       " 0.02421998144563986,\n",
       " 0.16804252290603472,\n",
       " 0.1839968212225358,\n",
       " 0.2812133984916727,\n",
       " 0.2812133984916727,\n",
       " 0.4365549156718771,\n",
       " 0.521354538788728,\n",
       " 0.54544018132583,\n",
       " 0.5680432777080568,\n",
       " 0.5680432777080568,\n",
       " 0.7478791224930319,\n",
       " 0.7985112342212233,\n",
       " 0.8023997616910492,\n",
       " 0.8023997616910492,\n",
       " 0.9166337546848808,\n",
       " 0.9166337546848808,\n",
       " 0.9166337546848808,\n",
       " 1.0632810068273102,\n",
       " 1.0632810068273102,\n",
       " 1.0685323273719405,\n",
       " 1.0685323273719405,\n",
       " 1.188003471303091,\n",
       " 1.188003471303091,\n",
       " 1.192467789114744,\n",
       " 1.2329856552605634,\n",
       " 1.2519683245991473,\n",
       " 1.3061442304824595,\n",
       " 1.3100741105808993,\n",
       " 1.333042480815493,\n",
       " 1.333042480815493,\n",
       " 1.3886119879971375,\n",
       " 1.4044044039401342,\n",
       " 1.4044044039401342,\n",
       " 1.5036864786598017,\n",
       " 1.5036864786598017,\n",
       " 1.5036864786598017,\n",
       " 1.5364076898622443,\n",
       " 1.5364076898622443,\n",
       " 1.5364076898622443,\n",
       " 1.6125054371732404,\n",
       " 1.6125054371732404,\n",
       " 1.638700872026675,\n",
       " 1.650193864312314,\n",
       " 1.650193864312314,\n",
       " 1.650193864312314,\n",
       " 1.719175260346674,\n",
       " 1.719175260346674,\n",
       " 1.719175260346674,\n",
       " 1.780328033324622,\n",
       " 1.780328033324622,\n",
       " 1.78669169551722,\n",
       " 1.78669169551722,\n",
       " 1.8406030461846967,\n",
       " 1.8458137583875214,\n",
       " 1.8458137583875214,\n",
       " 1.8458137583875214,\n",
       " 1.8890299486884032,\n",
       " 1.8890299486884032,\n",
       " 1.9311497143426095,\n",
       " 1.9311497143426095,\n",
       " 1.9413450573993032,\n",
       " 1.9596074006476556,\n",
       " 1.9596074006476556,\n",
       " 1.9927581382871722,\n",
       " 1.9927581382871722,\n",
       " 1.9927581382871722,\n",
       " 2.022393818195269,\n",
       " 2.022393818195269,\n",
       " 2.048996358826116,\n",
       " 2.048996358826116,\n",
       " 2.0735515302003478,\n",
       " 2.0735515302003478,\n",
       " 2.082894477127411,\n",
       " 2.102722992487543,\n",
       " 2.102722992487543,\n",
       " 2.122319732392498,\n",
       " 2.122319732392498,\n",
       " 2.137961284672201,\n",
       " 2.1510707532361266,\n",
       " 2.164899107076053,\n",
       " 2.1740947418220458,\n",
       " 2.1817031655591563,\n",
       " 2.193747473276744,\n",
       " 2.201437209332653,\n",
       " 2.201437209332653,\n",
       " 2.209340184352186,\n",
       " 2.209340184352186,\n",
       " 2.209340184352186,\n",
       " 2.209340184352186,\n",
       " 2.209340184352186,\n",
       " 1.3061442304824595,\n",
       " 1.3061442304824595,\n",
       " 1.3061442304824595,\n",
       " 1.3061442304824595,\n",
       " 1.3061442304824595,\n",
       " 1.3061442304824595,\n",
       " 1.3061442304824595,\n",
       " 1.3061442304824595,\n",
       " 1.3061442304824595,\n",
       " 1.3061442304824595,\n",
       " 1.3061442304824595,\n",
       " 1.3061442304824595,\n",
       " 1.3061442304824595,\n",
       " 1.3061442304824595,\n",
       " 1.3061442304824595,\n",
       " 1.3061442304824595,\n",
       " 1.3061442304824595,\n",
       " 1.3061442304824595,\n",
       " 1.3061442304824595,\n",
       " 1.3061442304824595]"
      ]
     },
     "execution_count": 103,
     "metadata": {},
     "output_type": "execute_result"
    }
   ],
   "source": [
    "forest1.predict(data)"
   ]
  },
  {
   "cell_type": "code",
   "execution_count": null,
   "metadata": {},
   "outputs": [],
   "source": []
  }
 ],
 "metadata": {
  "kernelspec": {
   "display_name": "Python 3",
   "language": "python",
   "name": "python3"
  },
  "language_info": {
   "codemirror_mode": {
    "name": "ipython",
    "version": 3
   },
   "file_extension": ".py",
   "mimetype": "text/x-python",
   "name": "python",
   "nbconvert_exporter": "python",
   "pygments_lexer": "ipython3",
   "version": "3.6.5"
  }
 },
 "nbformat": 4,
 "nbformat_minor": 2
}
